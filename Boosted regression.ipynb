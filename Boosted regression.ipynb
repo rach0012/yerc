{
 "cells": [
  {
   "cell_type": "code",
   "execution_count": 1,
   "metadata": {},
   "outputs": [],
   "source": [
    "import numpy as np\n",
    "import matplotlib.pyplot as plt\n",
    "\n",
    "from sklearn import ensemble\n",
    "from sklearn import datasets\n",
    "from sklearn.utils import shuffle\n",
    "from sklearn.metrics import mean_squared_error\n",
    "import seaborn as sns"
   ]
  },
  {
   "cell_type": "code",
   "execution_count": 2,
   "metadata": {},
   "outputs": [],
   "source": [
    "# #############################################################################\n",
    "# Load data\n",
    "# Boston house-prices dataset (regression)\n",
    "\n",
    "#TO DO - test on more datasets if variance within the algorithm is negligble\n",
    "boston = datasets.load_boston()\n",
    "X, y = shuffle(boston.data, boston.target, random_state=13)\n",
    "X = X.astype(np.float32)\n",
    "offset = int(X.shape[0] * 0.7)\n",
    "X_train, y_train = X[:offset], y[:offset]\n",
    "X_test, y_test = X[offset:], y[offset:]"
   ]
  },
  {
   "cell_type": "code",
   "execution_count": null,
   "metadata": {},
   "outputs": [],
   "source": []
  },
  {
   "cell_type": "code",
   "execution_count": 3,
   "metadata": {},
   "outputs": [
    {
     "name": "stdout",
     "output_type": "stream",
     "text": [
      "MSE: 9.5937\n",
      "MSE: 9.8475\n",
      "MSE: 10.0730\n",
      "MSE: 9.8127\n",
      "MSE: 9.6278\n",
      "MSE: 9.8603\n",
      "MSE: 10.0673\n",
      "MSE: 9.5873\n",
      "MSE: 9.7486\n",
      "MSE: 9.8238\n"
     ]
    }
   ],
   "source": [
    "# #############################################################################\n",
    "# Fit regression model\n",
    "# n_estimators : int (default=100) The number of boosting stages to perform.\n",
    "# learning_rate : float, optional (default=0.1) learning rate shrinks the contribution of each tree by learning_rate. There is a trade-off between learning_rate and n_estimators.\n",
    "# max_depth : integer, optional (default=3) maximum depth of the individual regression estimators. The maximum depth limits the number of nodes in the tree.\n",
    "# min_samples_split : int, float, optional (default=2) The minimum number of samples required to split an internal node\n",
    "# loss : (default=’ls’) loss function to be optimized. ‘ls’ refers to least squares regression.\n",
    "\n",
    "pred_y_all = []\n",
    "\n",
    "params = {'n_estimators': 500, 'max_depth': 4, 'min_samples_split': 2,\n",
    "          'learning_rate': 0.01, 'loss': 'ls'}\n",
    "for i in range(10):\n",
    "    clf = ensemble.GradientBoostingRegressor(**params)\n",
    "    clf.fit(X_train, y_train)\n",
    "    pred_y_i = clf.predict(X_test)\n",
    "    pred_y_all.append(pred_y_i)\n",
    "    mse = mean_squared_error(y_test, pred_y_i)\n",
    "    print(\"MSE: %.4f\" % mse)"
   ]
  },
  {
   "cell_type": "code",
   "execution_count": 4,
   "metadata": {},
   "outputs": [
    {
     "data": {
      "text/plain": [
       "array([[ 1.        ,  0.99993257],\n",
       "       [ 0.99993257,  1.        ]])"
      ]
     },
     "execution_count": 4,
     "metadata": {},
     "output_type": "execute_result"
    }
   ],
   "source": [
    "np.corrcoef(pred_y_all[1], pred_y_all[2])\n"
   ]
  },
  {
   "cell_type": "code",
   "execution_count": 5,
   "metadata": {},
   "outputs": [
    {
     "data": {
      "text/plain": [
       "Text(0, 0.5, 'Deviance')"
      ]
     },
     "execution_count": 5,
     "metadata": {},
     "output_type": "execute_result"
    },
    {
     "data": {
      "image/png": "[encoded data removed]",
      "text/plain": [
       "<Figure size 864x432 with 1 Axes>"
      ]
     },
     "metadata": {
      "needs_background": "light"
     },
     "output_type": "display_data"
    }
   ],
   "source": [
    "# #############################################################################\n",
    "# Plot training deviance\n",
    "\n",
    "# The figure below shows the results of applying GradientBoostingRegressor with least squares loss and 500 base learners \n",
    "# to the Boston house price dataset (sklearn.datasets.load_boston). It shows the train and test error at each \n",
    "# iteration. The train error at each iteration is stored in the train_score_ attribute of the gradient boosting model. The test \n",
    "# error at each iterations can be obtained via the staged_predict method which returns a generator that yields the predictions \n",
    "# at each stage. Plots like these can be used to determine the optimal number of trees (i.e. n_estimators) by early stopping.\n",
    "\n",
    "# compute test set deviance\n",
    "test_score = np.zeros((params['n_estimators'],), dtype=np.float64)\n",
    "\n",
    "for i, y_pred in enumerate(clf.staged_predict(X_test)):\n",
    "    test_score[i] = clf.loss_(y_test, y_pred)\n",
    "\n",
    "plt.figure(figsize=(12, 6))\n",
    "plt.title('Deviance')\n",
    "plt.plot(np.arange(params['n_estimators']) + 1, clf.train_score_, 'b-',\n",
    "         label='Training Set Deviance')\n",
    "plt.plot(np.arange(params['n_estimators']) + 1, test_score, 'r-',\n",
    "         label='Test Set Deviance')\n",
    "plt.legend(loc='upper right')\n",
    "plt.xlabel('Boosting Iterations')\n",
    "plt.ylabel('Deviance')"
   ]
  },
  {
   "cell_type": "code",
   "execution_count": 6,
   "metadata": {},
   "outputs": [],
   "source": [
    "# Another boosting implementation\n",
    "from __future__ import division\n",
    "import numpy as np\n",
    "import matplotlib.pyplot as plt\n",
    "import pandas as pd\n",
    "from tqdm import tqdm \n",
    "\n",
    "class LeastSquaresRegression(object):\n",
    "    def __init__(self):\n",
    "        self.weights = []\n",
    "    \n",
    "    def calcLeastSquares(self, X, y):\n",
    "        xtranspose = np.transpose(X)\n",
    "        xtransx = np.dot(xtranspose, X)\n",
    "        if xtransx.shape[0] != xtransx.shape[1]:\n",
    "            raise ValueError('Needs to be a square matrix for inverse')\n",
    "        matinv = np.linalg.inv(xtransx)\n",
    "        xtransy = np.dot(xtranspose, y)\n",
    "        self.weights = np.dot(matinv, xtransy)\n",
    "\n",
    "    def makePredictions(self, X):\n",
    "        class_output = np.dot(X, self.weights)\n",
    "        return np.sign(class_output)\n",
    "\n",
    "class Boosting(object):\n",
    "\n",
    "    def __init__(self, X_train, y_train):\n",
    "        self.X_train = X_train\n",
    "        self.N = self.X_train.shape[0]\n",
    "        self.y_train = y_train\n",
    "        self.weights = np.ones(self.N)/self.N\n",
    "        self.epsilont = []\n",
    "        self.alphas = []\n",
    "        self.classifiers = []\n",
    "        self.histogram = {}\n",
    "        #self.num_estimators = T\n",
    "        \n",
    "    def doBoosting(self):\n",
    "#         for t in range(self.num_estimators):\n",
    "        for t in range(3500):\n",
    "            output = np.random.choice(self.N, self.N, p=self.weights)\n",
    "            \n",
    "            for t in output:\n",
    "                self.histogram[t] = self.histogram.get(t, 0) + 1\n",
    "            \n",
    "#             print output\n",
    "            B_Xtrain = self.X_train[output]\n",
    "            B_ytrain = self.y_train[output]\n",
    "        \n",
    "            ls = LeastSquaresRegression()\n",
    "            ls.calcLeastSquares(B_Xtrain, B_ytrain)\n",
    "#             print ls.weights\n",
    "            Y_pred = ls.makePredictions(self.X_train)\n",
    "            \n",
    "#             print Y_pred\n",
    "            \n",
    "            e_t = np.sum((Y_pred != self.y_train) * self.weights)\n",
    "#             print e_t\n",
    "            if e_t > 0.5:\n",
    "                ls.weights = -ls.weights\n",
    "                Y_pred = ls.makePredictions(self.X_train)\n",
    "                e_t = np.sum((Y_pred != self.y_train) * self.weights)\n",
    "            \n",
    "#             print e_t\n",
    "            self.epsilont.append(e_t)\n",
    "\n",
    "            alpha_t = 0.5 * np.log((1 - e_t)/e_t)\n",
    "            self.alphas.append(alpha_t)\n",
    "            self.classifiers.append(ls)\n",
    "            \n",
    "#             print alpha_t   \n",
    "            self.weights = self.weights * np.exp(-alpha_t* Y_pred * self.y_train)\n",
    "            self.weights = self.weights / np.sum(self.weights)"
   ]
  },
  {
   "cell_type": "code",
   "execution_count": 54,
   "metadata": {},
   "outputs": [],
   "source": [
    "#Dataset load here\n",
    "X_train = np.genfromtxt('boosting/X_train.csv', delimiter=',')\n",
    "y_train = np.genfromtxt('boosting/y_train.csv')\n",
    "X_test = np.genfromtxt('boosting/X_test.csv', delimiter=',')\n",
    "y_test = np.genfromtxt('boosting/y_test.csv')\n",
    "\n",
    "def append_column_one(data):    \n",
    "    append_ones = np.ones((data.shape[0],1))\n",
    "    data = np.hstack((append_ones, data))\n",
    "    return data\n",
    "\n",
    "X_train = append_column_one(X_train)\n",
    "X_test = append_column_one(X_test)\n"
   ]
  },
  {
   "cell_type": "code",
   "execution_count": 55,
   "metadata": {},
   "outputs": [
    {
     "name": "stderr",
     "output_type": "stream",
     "text": [
      "100%|██████████████████████████████████████| 1500/1500 [00:43<00:00, 12.97it/s]\n"
     ]
    }
   ],
   "source": [
    "#train and get output here\n",
    "training_error = []\n",
    "testing_error = []\n",
    "\n",
    "boost = Boosting(X_train, y_train)\n",
    "boost.doBoosting()\n",
    "\n",
    "for t in tqdm(range(1, 1501)):\n",
    "    sum_train = np.zeros(X_train.shape[0])\n",
    "    sum_test = np.zeros(X_test.shape[0])\n",
    "    for i in range(t):\n",
    "        alpha = boost.alphas[i]\n",
    "        classifier = boost.classifiers[i]\n",
    "#             print X_train.shape\n",
    "#             print classifier.weights.shape\n",
    "#             print np.dot(X_train, classifier.weights).shape\n",
    "        sum_train += (alpha * classifier.makePredictions(X_train))\n",
    "        sum_test += (alpha * classifier.makePredictions(X_test))\n",
    "    fboost_train_pred = np.sign(sum_train)\n",
    "    fboost_test_pred = np.sign(sum_test)\n",
    "\n",
    "    training_error.append(mean_squared_error(y_train, fboost_train_pred))\n",
    "    testing_error.append(mean_squared_error(y_test, fboost_test_pred))\n",
    "    #training_error.append(np.sum(fboost_train_pred != y_train)/y_train.shape[0])\n",
    "    #testing_error.append(np.sum(fboost_test_pred != y_test)/y_test.shape[0])"
   ]
  },
  {
   "cell_type": "code",
   "execution_count": 56,
   "metadata": {},
   "outputs": [
    {
     "data": {
      "image/png": "[encoded data removed]",
      "text/plain": [
       "<Figure size 432x288 with 1 Axes>"
      ]
     },
     "metadata": {
      "needs_background": "light"
     },
     "output_type": "display_data"
    }
   ],
   "source": [
    "#plot it\n",
    "plt.figure()\n",
    "plt.plot(range(1,1501), training_error, label=\"Training error\")\n",
    "plt.plot(range(1,1501), testing_error, label=\"Testing error\")\n",
    "plt.title(\"Training and Testing error of fboost(t) for t = 1, 2, ... 1500\")\n",
    "plt.legend()\n",
    "plt.show()"
   ]
  },
  {
   "cell_type": "code",
   "execution_count": 68,
   "metadata": {},
   "outputs": [],
   "source": [
    "#scikit learn output here\n",
    "X_train = np.genfromtxt('boosting/X_train.csv', delimiter=',')\n",
    "y_train = np.genfromtxt('boosting/y_train.csv')\n",
    "X_test = np.genfromtxt('boosting/X_test.csv', delimiter=',')\n",
    "y_test = np.genfromtxt('boosting/y_test.csv')\n",
    "pred_y_all = []\n",
    "\n",
    "params = {'n_estimators': 5000, 'max_depth': 4, 'min_samples_split': 2,\n",
    "          'learning_rate': 0.01, 'loss': 'ls'}\n",
    "\n",
    "for i in range(1):\n",
    "    clf = ensemble.GradientBoostingRegressor(**params)\n",
    "    clf.fit(X_train, y_train)\n",
    "    pred_y_i = clf.predict(X_test)\n",
    "    pred_y_all.append(pred_y_i)"
   ]
  },
  {
   "cell_type": "code",
   "execution_count": 69,
   "metadata": {},
   "outputs": [
    {
     "name": "stdout",
     "output_type": "stream",
     "text": [
      "[-1.00000863  0.99966498 -1.00002803 -1.00000709 -0.99999946 -0.99999791\n",
      " -1.00002682 -1.00000865 -0.99999946 -1.00002803 -0.99999791 -1.00002993\n",
      " -1.00000865 -1.00000564 -1.00001376 -1.00009756  1.00384514  0.99950188\n",
      "  1.00007155 -1.00000564 -1.00002682 -1.00002324 -1.00000865 -0.99998622\n",
      " -1.0000054  -0.99931255 -0.9999644  -0.99999946 -1.00003693  1.00051182\n",
      "  1.00222201 -1.0000038  -1.00000731 -1.00002803 -0.99996318 -1.00002324\n",
      " -1.00000863  1.01539911 -0.99998744  0.9991566  -1.00006117  1.00010644\n",
      " -1.00000987  1.00006256 -1.0000054   1.00017164 -0.99965833  0.99664277\n",
      " -1.00001999 -1.00002803 -0.99998744 -1.00002682  0.99950188  1.00062702\n",
      "  0.99921984 -0.99998622 -1.00002803 -0.99976626  0.99875481 -1.00001715\n",
      " -1.00000709 -1.00002682  1.00099771 -1.00002803  0.10633918  0.99993951\n",
      "  1.00051414 -0.99978752  1.00027661  1.00019827 -1.00002682 -0.99998744\n",
      " -1.00000564 -1.00000564 -1.00002803 -0.99998744 -0.80924494  1.00061895\n",
      "  1.00006978  0.64702683 -1.00002517 -1.00002803 -1.00107562 -1.00000865\n",
      " -1.00000865 -0.98959718 -1.00002324 -1.00117799 -1.00000502 -1.00002682\n",
      "  0.99950188  0.9998882  -0.99999624 -0.99997776 -1.00002803 -1.00002324\n",
      " -1.00000685 -1.00000502 -0.99998622 -1.00002682  1.00005322 -0.99955405\n",
      " -1.00002803 -0.99941835 -1.00016128 -0.9999892  -1.00000865  1.00009295\n",
      " -1.00002344 -1.00002863 -1.00002682 -0.99999985 -0.99999624 -1.00000564\n",
      " -1.00000865  1.00000672  0.99877043 -0.99999946 -0.99999946 -0.99909024\n",
      " -1.00002803 -1.00194367  0.99975758 -0.9999644  -1.00000865 -1.00002803\n",
      " -1.00000865 -0.99998502 -0.99999946 -0.99999518 -1.02420914 -1.00002803\n",
      " -1.00002993 -0.99999479 -1.00002803 -1.00002404 -1.00002338 -1.0000038\n",
      "  0.99875087 -1.00002803 -1.00003392  0.99962938 -1.00002803 -1.00003392\n",
      " -1.00000865 -1.00002803 -1.00000564 -0.99998622 -1.00002863 -1.00000865\n",
      " -1.0000038  -1.0000054  -0.9999732  -1.00013339 -0.96922481  0.93480523\n",
      " -1.00000987  1.00118858 -1.00088568 -0.99998744 -1.00000987 -1.00002324\n",
      "  0.81010165 -0.99999479 -1.00002682 -0.99997082 -1.0000054  -1.00002803\n",
      " -0.9993886   0.99808877 -1.00002803 -1.00003392 -0.99999946 -1.00049017\n",
      " -1.00002682  1.0024401  -1.00000865  0.99673473 -0.99989063  1.00012896\n",
      "  1.00062262  1.00030535 -1.00002993 -0.99990589 -1.00002863 -1.0000054\n",
      " -1.00002324 -1.00002803 -1.00009236 -1.0000054  -1.00013339 -0.99955561\n",
      " -1.00002324 -0.88607254 -0.99999624  1.00066366 -0.99999518 -0.99998502\n",
      "  1.00013081  0.99505995 -0.99967434 -1.00002803 -1.00000865  1.00030827\n",
      "  1.00222201 -0.99348094  1.00039528 -1.00002863  0.99984557 -0.99999946\n",
      " -1.00002803  0.99946865 -1.00007439 -1.00002803  1.00012012  0.99984557\n",
      " -0.99999946 -1.00002682 -1.00002324 -1.00002803 -1.00002324 -0.99998744\n",
      " -1.00002803 -1.00002863  1.00030253 -1.0000054  -1.00000863 -0.99998744\n",
      " -0.99985221 -0.99998622 -1.00002803 -1.0000038  -0.9999732  -0.9807372\n",
      "  1.00013081  0.99944454 -0.9999644   0.99944454 -0.99993181 -0.98754861\n",
      " -1.0000052  -0.99999985 -1.00002863 -0.99999624 -0.99373887 -1.00002803\n",
      " -0.99999985 -0.99999791 -0.99999985 -0.99998452 -1.00003023  1.03353326\n",
      " -1.00086596 -1.0000054  -0.56512335 -0.99938551 -1.00000987 -1.00002682\n",
      " -1.00002324 -1.00002863 -0.99999079 -0.99956001 -1.00002682 -1.00000865\n",
      " -1.00016128 -1.00000987 -0.99998502 -1.00000863 -1.00000865 -0.99998744\n",
      " -1.00000863 -0.99999863 -1.00002863 -1.00002682 -0.99902186 -0.99999946\n",
      " -0.99998744 -1.00002863 -0.04077431 -1.00002803 -1.00010367 -1.00000685\n",
      " -1.0000054   0.87450893 -1.00000865  0.99963225  0.99951095  0.99994792\n",
      " -1.00005695 -1.00002682 -0.99993078 -0.99914298  0.99922383 -1.00000865\n",
      "  1.00041315 -1.00002803 -1.00002682 -0.99953499  0.99974655  0.99995278\n",
      " -1.00000564 -0.99999382 -0.99995878 -1.00002803 -0.99998744 -0.99985167\n",
      " -0.99998622 -0.99999985 -0.99998744  0.67570429 -1.00002324 -0.80904448\n",
      "  0.4693583  -1.00002682 -0.99978104 -0.99895428 -1.00002682 -1.0000054\n",
      " -1.0000038  -1.00000987 -0.99999985  0.99873868 -1.00001323 -1.00000685\n",
      " -1.00002737 -1.00000865 -1.00002682 -1.00005936 -1.00010347 -1.00002682\n",
      " -1.00003392 -0.99998622 -0.99666717 -0.99998744 -1.00000865 -1.00000987\n",
      " -1.00000168 -0.99999791 -0.99990562 -1.00000863 -0.99956001 -1.00002993\n",
      " -0.99998622 -1.0000038  -0.99961556 -0.99998622 -1.00001323 -0.99999946\n",
      "  0.99951041 -1.00002803  1.00220465 -1.00000865  1.00220465 -1.00000467\n",
      " -0.9999875  -1.00000685 -0.99987886  0.66788508 -0.99956001 -0.99999479\n",
      "  1.00030253  0.9998017  -1.00003392 -0.99956719 -1.00000865 -1.00000502\n",
      " -1.00000865  1.00051616 -1.00003175  0.99984557 -1.00002682 -1.00002803\n",
      " -1.00002344 -0.99998622 -1.00002863 -1.00286175  1.00039528  1.00037444\n",
      " -0.99999079 -1.00002682 -0.99998442  1.00317388  0.99829851 -1.00000709\n",
      " -0.99873431 -1.00002803 -1.00002682  1.00018977  1.00255617 -1.00002803\n",
      " -1.00000564 -0.99842844 -1.00002803  0.59022374 -1.00002682 -0.99999946\n",
      " -0.99999946  1.00004293  0.99980645  1.00057099 -0.99998622 -1.00003392\n",
      " -1.00006664 -0.99955193 -1.00000502  0.99993951 -0.99999479 -1.00013339\n",
      " -0.99997776  0.99958221 -1.00086986 -1.00000502 -1.00000502 -1.00000396\n",
      "  1.00065839 -1.00003023 -1.00000502 -1.00000865 -1.0000038  -1.00002682\n",
      " -1.00000863 -1.00002324 -0.99997262 -0.99965541  1.00058018 -1.00000987\n",
      " -1.00002803 -1.00002803 -1.00002803 -0.99965541  0.999947   -0.99999985\n",
      " -1.00144733 -1.00002324 -1.00002682 -0.99934008  0.99888431 -1.0000038\n",
      " -1.0000038  -1.00000564 -0.99956001 -1.00010366 -0.99998622 -1.00002863\n",
      " -1.00013339  0.99962938  1.00030253  1.00044333  0.99957661 -0.99965166\n",
      " -1.00002682  0.94939751 -0.99998622 -0.99925948  1.00005322  1.00050892\n",
      " -0.99999782 -1.00002324 -1.00002803 -0.99955363 -1.00002803 -0.99926929\n",
      " -1.00000865 -0.99965114 -0.99999946 -0.99999985 -0.99998622 -1.00000502\n",
      " -1.00000502 -0.99582393 -1.00000863 -1.00002803 -0.99999946  0.99993452\n",
      "  0.96589433 -0.99979115 -1.00000502  1.00112282 -1.00002803 -1.00000865\n",
      " -1.00002803 -1.00002682 -1.00016128 -0.99999946 -1.00000709 -0.99999946\n",
      "  0.99922824 -1.00002803 -1.00003092 -1.00000502 -0.99999946 -1.00002803\n",
      " -0.99999946  1.00092687  0.99885267  1.00038313 -1.00010347 -0.9999875\n",
      " -0.99983325 -1.00013339 -0.99999079 -0.99996318 -0.99999946  0.99984557\n",
      " -1.0000054   0.99949156 -1.00001323 -0.99999684 -1.00007439  0.99993951\n",
      " -0.99905598 -1.00000502 -1.00004234 -0.99999942 -0.99967059 -0.99996318\n",
      " -0.99997776 -1.00002682 -0.9992836  -1.00002324 -0.99998622 -0.99987322\n",
      "  0.99994899 -0.99997733  1.00007931  0.99950136 -1.00002803  1.00110179\n",
      " -0.99997776 -0.99995723 -1.00004419 -1.00002324 -1.00000865  0.99922383\n",
      "  1.00024222 -0.99998744 -1.00002803 -1.00002803 -1.00002682  0.99972828\n",
      " -0.99999479 -1.00000502 -0.99999946 -1.00002803  0.99912577 -1.00000987\n",
      " -0.99976786  0.99632962 -1.00013339  0.99085336 -0.99996318 -0.99999946\n",
      " -1.21381837 -0.99956001 -0.99966003  0.9552684  -0.99999946 -1.00000865\n",
      " -1.00002863 -1.00002803 -0.99999518 -1.00001921 -0.99997733 -1.00002803\n",
      " -1.0009031   0.99062114 -0.99978113 -1.00002324 -0.99999382 -1.00002863\n",
      " -0.99999479 -0.99999946 -1.00002737 -0.36966423 -0.9964387  -1.00000865\n",
      "  0.99950188 -1.00002682 -1.00003392 -1.00002993  1.00006629  0.90099508\n",
      " -1.00001921 -1.0000038   1.00224259 -1.00002682 -1.00013339 -1.00000865\n",
      " -0.9998617  -1.00000502  1.00018294 -1.00000564 -0.9999644  -0.999066\n",
      " -0.99999946  1.00147024 -1.00000865 -1.00000865  1.00358208 -0.99999946\n",
      "  1.00065839 -0.99993078 -0.99969754 -0.99994721  1.00075344 -0.99997776\n",
      " -0.99930346  0.99467628 -0.99987322 -0.99975403 -1.00000987 -0.99999722\n",
      " -1.00003081  0.999945    1.00013081  0.99938451 -1.00000564 -0.99999791\n",
      "  0.93359283 -0.99999946  0.73621887  0.99994647 -1.00007439 -1.00000865\n",
      " -1.00002803 -1.00010367 -1.00001033 -1.00003092  0.9999685   1.00013081\n",
      " -1.00000863 -1.0000052   1.00079056 -1.00002324 -1.00000564 -0.99999791\n",
      " -0.99788905 -1.0000054   1.00018735 -1.00010366 -0.99999079 -1.00002863\n",
      " -0.99999946 -1.00002682 -0.99999382 -0.9999644  -1.00064686 -0.99998744\n",
      " -1.0000104  -1.00002737 -0.99997564 -0.99998744 -0.99999985  1.0001307\n",
      " -0.99999985 -0.99998622 -1.00002993 -0.99834743 -0.99935072 -1.00002682\n",
      " -1.00013339 -0.99940616  0.99890124  0.99808877  0.99922425 -1.00002803\n",
      " -1.00000987 -1.00002803 -1.00003392 -0.99999791 -1.00002803 -1.00000502\n",
      " -1.00002682 -0.99904182  0.99899299  0.80134581 -0.99577351 -1.00000865\n",
      "  1.00006848 -1.0000104  -0.99964581 -1.00002863  0.95360169 -1.00002324\n",
      " -0.99999946 -1.00002344  1.00006574 -1.00000865 -1.00002682 -1.00002993\n",
      " -1.00016128 -1.00000863 -1.00002324  0.99937883 -0.99954921 -0.99999722\n",
      " -0.99989993 -0.99954921 -0.99998657  1.00031491 -1.00000709  1.0098197\n",
      " -1.00002803  1.00082863 -1.00004071 -1.00002682 -1.00000564  0.99624952\n",
      " -1.0000768  -1.0000038  -1.00000564 -0.99987977 -1.00002324 -1.00002803\n",
      "  0.99994647  1.00018294 -1.00002803  0.99789661 -0.99998744  0.99922824\n",
      " -1.00000564 -0.99998744  0.9991705  -0.99999946 -1.00025402 -0.99998622\n",
      " -0.99828138  0.99985089 -0.99999946 -1.00002803 -0.99931645 -0.99932838\n",
      "  0.99298274 -0.99999782  1.00018294  1.00006432  0.48119331 -1.00003092\n",
      "  0.58031706 -0.99998622 -1.00002682 -1.0000038  -0.99998657  1.00063081\n",
      " -0.99994134  0.99096351 -1.00002803 -0.99880124 -1.00030701  1.0005373\n",
      " -0.99987886  0.99461963 -1.00750287 -1.00013339  1.00023734 -1.00000502\n",
      " -0.99998744 -1.00002863 -1.00002682  0.99719166  1.02905743  1.00006663\n",
      "  0.99987089  0.99962359  0.99966447 -1.00002803 -1.00000685 -0.99999863\n",
      " -0.99999946 -1.00002682 -0.99996304  0.9237349   1.03502904  1.00187455\n",
      " -0.99899016 -1.00002682  0.99941938  1.0013448  -1.00002803 -1.00049756\n",
      " -0.99998622 -0.99999518 -1.00002803 -0.99998442 -1.00002803 -1.0000038\n",
      " -1.00002863 -1.00000709 -0.99998657  1.00009133 -1.0000038  -1.0000054\n",
      " -1.00002324  0.99962938 -1.0000038  -1.00002682  0.99956296 -1.00000863\n",
      " -1.00003175  1.00297186 -1.00000564 -1.00002682 -0.99999624 -1.00002324\n",
      " -1.00000863 -0.99998744 -0.99999946 -0.9998617  -0.99998622  1.00013081\n",
      " -0.99999479 -1.00011665 -0.99933045 -1.00000709 -0.99999946  0.99977687\n",
      " -0.99998744 -0.99981278  1.00060318 -1.00003023 -1.00002338 -0.99999946\n",
      " -1.00002993 -1.00001376 -0.85367916 -1.00002863 -0.99961757 -1.00000685\n",
      " -1.00001323  1.00169857 -1.0000054  -1.00000564 -0.99998622 -1.00002324\n",
      " -1.00001921  0.99990812 -1.0000038   1.00065839  1.00030039 -1.00000865\n",
      " -1.0000038  -1.00000564 -1.00000502 -1.0000038  -1.00000865  0.99986832\n",
      "  0.99922425 -0.99999518 -0.99965233 -0.99990589  1.0019217  -1.00002682\n",
      " -0.99999863 -1.00179053 -1.00001272 -1.00000865 -1.00002324 -0.99957917\n",
      " -1.00001596 -1.00007439 -0.9999875  -0.99999946 -1.00000502 -0.99978687\n",
      "  1.00264505 -1.00000865  1.01252517  0.99963225  1.00130147  0.99989909\n",
      " -1.00000865 -1.00000865 -1.00002682 -1.00000865 -1.00002803 -0.99998622\n",
      " -0.57125449 -0.9999644  -1.00000987 -0.99999985  0.99989909  1.00152275\n",
      " -1.00002803 -1.00002863 -0.99999479 -1.00002993 -1.00013339 -0.99999985\n",
      "  1.00030253  1.00006848  1.001766   -1.00002863  0.91871984 -1.00000502\n",
      " -1.00003023 -0.99978113  0.99979126 -1.00177657  1.00013081 -0.99956001\n",
      " -1.00002863 -0.99999946 -0.99998502 -0.9999644  -0.99999946  1.00054092\n",
      " -1.00003987 -0.00475935 -1.00002803 -0.99999985 -1.00002803 -1.00003392\n",
      " -1.00038546 -1.00001921 -1.00013339 -1.00002803 -1.00002682 -1.00003392\n",
      " -1.00002682 -0.99999863 -1.00030835 -1.00002682 -1.00002993 -0.99998622\n",
      " -0.99995878 -1.0000038  -0.99999624 -0.99985218 -1.00000564  1.00127026\n",
      " -0.99976984 -1.00000865 -1.00002682 -0.99999985 -1.0000038  -1.00000865\n",
      " -1.00000865 -0.99993188 -1.00002803 -0.9999644  -1.00000865 -0.99982464\n",
      " -1.00002863 -0.99990589 -1.00000863  1.00155141 -1.00013339 -0.99998744\n",
      " -0.99989993 -0.99910845 -0.99976786 -1.00003392 -0.9988686  -1.00002053\n",
      " -1.00002682 -1.00002863 -0.99993078 -0.99966003 -1.00002803 -1.0000038\n",
      "  0.99991115 -0.99998744 -0.99996318 -0.99998744 -0.99999946 -1.00003392\n",
      " -1.00000987  0.99984557 -1.00000564 -0.99999624 -1.00004419 -0.99996318\n",
      "  0.99912422 -0.99994134 -1.00002803  0.99815604 -1.00000502 -0.99998744\n",
      " -0.9999644  -1.00002863 -0.99998657 -1.00002682 -1.00000502 -1.00003392\n",
      " -0.99999518  1.00035255  0.9975396  -1.00000502 -1.00000865 -0.99999942\n",
      "  1.00007931 -0.99998744 -1.00002682 -1.00002803 -0.99998744 -0.99999946\n"
     ]
    },
    {
     "name": "stdout",
     "output_type": "stream",
     "text": [
      " -0.99866418 -0.99999382 -1.00002863 -0.99998622]\n",
      "0.01796934464\n"
     ]
    }
   ],
   "source": [
    "#correlate here\n",
    "print(pred_y_i)\n",
    "\n",
    "print(mean_squared_error(pred_y_i, fboost_test_pred))"
   ]
  },
  {
   "cell_type": "code",
   "execution_count": null,
   "metadata": {},
   "outputs": [],
   "source": []
  }
 ],
 "metadata": {
  "kernelspec": {
   "display_name": "Python 3",
   "language": "python",
   "name": "python3"
  },
  "language_info": {
   "codemirror_mode": {
    "name": "ipython",
    "version": 3
   },
   "file_extension": ".py",
   "mimetype": "text/x-python",
   "name": "python",
   "nbconvert_exporter": "python",
   "pygments_lexer": "ipython3",
   "version": "3.5.3"
  }
 },
 "nbformat": 4,
 "nbformat_minor": 2
}
