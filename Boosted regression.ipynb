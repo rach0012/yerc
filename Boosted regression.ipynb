{
 "cells": [
  {
   "cell_type": "code",
   "execution_count": 1,
   "metadata": {},
   "outputs": [],
   "source": [
    "import numpy as np\n",
    "import matplotlib.pyplot as plt\n",
    "\n",
    "from sklearn import ensemble\n",
    "from sklearn import datasets\n",
    "from sklearn.utils import shuffle\n",
    "from sklearn.metrics import mean_squared_error\n",
    "import seaborn as sns"
   ]
  },
  {
   "cell_type": "code",
   "execution_count": 6,
   "metadata": {},
   "outputs": [],
   "source": [
    "# #############################################################################\n",
    "# Load data\n",
    "# Boston house-prices dataset (regression)\n",
    "\n",
    "#TO DO - test on more datasets if variance within the algorithm is negligble\n",
    "boston = datasets.load_boston()\n",
    "X, y = shuffle(boston.data, boston.target, random_state=13)\n",
    "X = X.astype(np.float32)\n",
    "offset = int(X.shape[0] * 0.7)\n",
    "X_train, y_train = X[:offset], y[:offset]\n",
    "X_test, y_test = X[offset:], y[offset:]"
   ]
  },
  {
   "cell_type": "code",
   "execution_count": null,
   "metadata": {},
   "outputs": [],
   "source": []
  },
  {
   "cell_type": "code",
   "execution_count": 6,
   "metadata": {},
   "outputs": [
    {
     "name": "stdout",
     "output_type": "stream",
     "text": [
      "MSE: 9.8826\n",
      "MSE: 10.0895\n",
      "MSE: 9.8977\n",
      "MSE: 9.7963\n",
      "MSE: 9.6880\n",
      "MSE: 9.7426\n",
      "MSE: 10.1237\n",
      "MSE: 10.0916\n",
      "MSE: 9.8951\n",
      "MSE: 9.7073\n"
     ]
    }
   ],
   "source": [
    "# #############################################################################\n",
    "# Fit regression model\n",
    "# n_estimators : int (default=100) The number of boosting stages to perform.\n",
    "# learning_rate : float, optional (default=0.1) learning rate shrinks the contribution of each tree by learning_rate. There is a trade-off between learning_rate and n_estimators.\n",
    "# max_depth : integer, optional (default=3) maximum depth of the individual regression estimators. The maximum depth limits the number of nodes in the tree.\n",
    "# min_samples_split : int, float, optional (default=2) The minimum number of samples required to split an internal node\n",
    "# loss : (default=’ls’) loss function to be optimized. ‘ls’ refers to least squares regression.\n",
    "\n",
    "pred_y_all = []\n",
    "\n",
    "params = {'n_estimators': 500, 'max_depth': 4, 'min_samples_split': 2,\n",
    "          'learning_rate': 0.01, 'loss': 'ls'}\n",
    "for i in range(10):\n",
    "    clf = ensemble.GradientBoostingRegressor(**params)\n",
    "    clf.fit(X_train, y_train)\n",
    "    pred_y_i = clf.predict(X_test)\n",
    "    pred_y_all.append(pred_y_i)\n",
    "    mse = mean_squared_error(y_test, pred_y_i)\n",
    "    print(\"MSE: %.4f\" % mse)"
   ]
  },
  {
   "cell_type": "code",
   "execution_count": 9,
   "metadata": {},
   "outputs": [
    {
     "data": {
      "text/plain": [
       "array([[ 1.        ,  0.99993081],\n",
       "       [ 0.99993081,  1.        ]])"
      ]
     },
     "execution_count": 9,
     "metadata": {},
     "output_type": "execute_result"
    }
   ],
   "source": [
    "np.corrcoef(pred_y_all[1], pred_y_all[2])\n"
   ]
  },
  {
   "cell_type": "code",
   "execution_count": 6,
   "metadata": {},
   "outputs": [
    {
     "data": {
      "text/plain": [
       "Text(0, 0.5, 'Deviance')"
      ]
     },
     "execution_count": 6,
     "metadata": {},
     "output_type": "execute_result"
    },
    {
     "data": {
      "image/png": "[encoded data removed]",
      "text/plain": [
       "<Figure size 864x432 with 1 Axes>"
      ]
     },
     "metadata": {
      "needs_background": "light"
     },
     "output_type": "display_data"
    }
   ],
   "source": [
    "# #############################################################################\n",
    "# Plot training deviance\n",
    "\n",
    "# The figure below shows the results of applying GradientBoostingRegressor with least squares loss and 500 base learners \n",
    "# to the Boston house price dataset (sklearn.datasets.load_boston). It shows the train and test error at each \n",
    "# iteration. The train error at each iteration is stored in the train_score_ attribute of the gradient boosting model. The test \n",
    "# error at each iterations can be obtained via the staged_predict method which returns a generator that yields the predictions \n",
    "# at each stage. Plots like these can be used to determine the optimal number of trees (i.e. n_estimators) by early stopping.\n",
    "\n",
    "# compute test set deviance\n",
    "test_score = np.zeros((params['n_estimators'],), dtype=np.float64)\n",
    "\n",
    "for i, y_pred in enumerate(clf.staged_predict(X_test)):\n",
    "    test_score[i] = clf.loss_(y_test, y_pred)\n",
    "\n",
    "plt.figure(figsize=(12, 6))\n",
    "plt.title('Deviance')\n",
    "plt.plot(np.arange(params['n_estimators']) + 1, clf.train_score_, 'b-',\n",
    "         label='Training Set Deviance')\n",
    "plt.plot(np.arange(params['n_estimators']) + 1, test_score, 'r-',\n",
    "         label='Test Set Deviance')\n",
    "plt.legend(loc='upper right')\n",
    "plt.xlabel('Boosting Iterations')\n",
    "plt.ylabel('Deviance')"
   ]
  },
  {
   "cell_type": "code",
   "execution_count": 29,
   "metadata": {},
   "outputs": [],
   "source": [
    "# TO DO -- compare y_pred of another python boosting implementation\n",
    "# for e.g. here - https://medium.com/mlreview/gradient-boosting-from-scratch-1e317ae4587d\n",
    "\n",
    "from __future__ import division\n",
    "import numpy as np\n",
    "import matplotlib.pyplot as plt\n",
    "import pandas as pd\n",
    "from tqdm import tqdm \n",
    "\n",
    "class LeastSquaresRegression(object):\n",
    "    def __init__(self):\n",
    "        self.weights = []\n",
    "    \n",
    "    def calcLeastSquares(self, X, y):\n",
    "        xtranspose = np.transpose(X)\n",
    "        xtransx = np.dot(xtranspose, X)\n",
    "        if xtransx.shape[0] != xtransx.shape[1]:\n",
    "            raise ValueError('Needs to be a square matrix for inverse')\n",
    "        matinv = np.linalg.inv(xtransx)\n",
    "        xtransy = np.dot(xtranspose, y)\n",
    "        self.weights = np.dot(matinv, xtransy)\n",
    "\n",
    "    def makePredictions(self, X):\n",
    "        class_output = np.dot(X, self.weights)\n",
    "        return np.sign(class_output)\n",
    "\n",
    "class Boosting(object):\n",
    "\n",
    "    def __init__(self, X_train, y_train):\n",
    "        self.X_train = X_train\n",
    "        self.N = self.X_train.shape[0]\n",
    "        self.y_train = y_train\n",
    "        self.weights = np.ones(self.N)/self.N\n",
    "        self.epsilont = []\n",
    "        self.alphas = []\n",
    "        self.classifiers = []\n",
    "        self.histogram = {}\n",
    "        #self.num_estimators = T\n",
    "        \n",
    "    def doBoosting(self):\n",
    "#         for t in range(self.num_estimators):\n",
    "        for t in range(3500):\n",
    "            output = np.random.choice(self.N, self.N, p=self.weights)\n",
    "            \n",
    "            for t in output:\n",
    "                self.histogram[t] = self.histogram.get(t, 0) + 1\n",
    "            \n",
    "#             print output\n",
    "            B_Xtrain = self.X_train[output]\n",
    "            B_ytrain = self.y_train[output]\n",
    "        \n",
    "            ls = LeastSquaresRegression()\n",
    "            ls.calcLeastSquares(B_Xtrain, B_ytrain)\n",
    "#             print ls.weights\n",
    "            Y_pred = ls.makePredictions(self.X_train)\n",
    "            \n",
    "#             print Y_pred\n",
    "            \n",
    "            e_t = np.sum((Y_pred != self.y_train) * self.weights)\n",
    "#             print e_t\n",
    "            if e_t > 0.5:\n",
    "                ls.weights = -ls.weights\n",
    "                Y_pred = ls.makePredictions(self.X_train)\n",
    "                e_t = np.sum((Y_pred != self.y_train) * self.weights)\n",
    "            \n",
    "#             print e_t\n",
    "            self.epsilont.append(e_t)\n",
    "\n",
    "            alpha_t = 0.5 * np.log((1 - e_t)/e_t)\n",
    "            self.alphas.append(alpha_t)\n",
    "            self.classifiers.append(ls)\n",
    "            \n",
    "#             print alpha_t   \n",
    "            self.weights = self.weights * np.exp(-alpha_t* Y_pred * self.y_train)\n",
    "            self.weights = self.weights / np.sum(self.weights)"
   ]
  },
  {
   "cell_type": "code",
   "execution_count": 30,
   "metadata": {},
   "outputs": [],
   "source": [
    "X_train = np.genfromtxt('boosting/X_train.csv', delimiter=',')\n",
    "y_train = np.genfromtxt('boosting/y_train.csv')\n",
    "X_test = np.genfromtxt('boosting/X_test.csv', delimiter=',')\n",
    "y_test = np.genfromtxt('boosting/y_test.csv')\n",
    "\n",
    "def append_column_one(data):    \n",
    "    append_ones = np.ones((data.shape[0],1))\n",
    "    data = np.hstack((append_ones, data))\n",
    "    return data\n",
    "\n",
    "X_train = append_column_one(X_train)\n",
    "X_test = append_column_one(X_test)\n"
   ]
  },
  {
   "cell_type": "code",
   "execution_count": 31,
   "metadata": {},
   "outputs": [
    {
     "name": "stderr",
     "output_type": "stream",
     "text": [
      "100%|██████████████████████████████████████| 1500/1500 [00:40<00:00, 20.91it/s]\n"
     ]
    }
   ],
   "source": [
    "training_error = []\n",
    "testing_error = []\n",
    "\n",
    "boost = Boosting(X_train, y_train)\n",
    "boost.doBoosting()\n",
    "\n",
    "for t in tqdm(range(1, 1501)):\n",
    "    sum_train = np.zeros(X_train.shape[0])\n",
    "    sum_test = np.zeros(X_test.shape[0])\n",
    "    for i in range(t):\n",
    "        alpha = boost.alphas[i]\n",
    "        classifier = boost.classifiers[i]\n",
    "#             print X_train.shape\n",
    "#             print classifier.weights.shape\n",
    "#             print np.dot(X_train, classifier.weights).shape\n",
    "        sum_train += (alpha * classifier.makePredictions(X_train))\n",
    "        sum_test += (alpha * classifier.makePredictions(X_test))\n",
    "    fboost_train_pred = np.sign(sum_train)\n",
    "    fboost_test_pred = np.sign(sum_test)\n",
    "\n",
    "    training_error.append(mean_squared_error(y_train, fboost_train_pred))\n",
    "    testing_error.append(mean_squared_error(y_test, fboost_test_pred))\n",
    "    #training_error.append(np.sum(fboost_train_pred != y_train)/y_train.shape[0])\n",
    "    #testing_error.append(np.sum(fboost_test_pred != y_test)/y_test.shape[0])"
   ]
  },
  {
   "cell_type": "code",
   "execution_count": 32,
   "metadata": {},
   "outputs": [
    {
     "data": {
      "image/png": "[encoded data removed]",
      "text/plain": [
       "<Figure size 432x288 with 1 Axes>"
      ]
     },
     "metadata": {
      "needs_background": "light"
     },
     "output_type": "display_data"
    }
   ],
   "source": [
    "plt.figure()\n",
    "plt.plot(range(1,1501), training_error, label=\"Training error\")\n",
    "plt.plot(range(1,1501), testing_error, label=\"Testing error\")\n",
    "plt.title(\"Training and Testing error of fboost(t) for t = 1, 2, ... 1500\")\n",
    "plt.legend()\n",
    "plt.show()"
   ]
  },
  {
   "cell_type": "code",
   "execution_count": 33,
   "metadata": {},
   "outputs": [
    {
     "name": "stdout",
     "output_type": "stream",
     "text": [
      "MSE: 0.0298\n"
     ]
    }
   ],
   "source": [
    "X_train = np.genfromtxt('boosting/X_train.csv', delimiter=',')\n",
    "y_train = np.genfromtxt('boosting/y_train.csv')\n",
    "X_test = np.genfromtxt('boosting/X_test.csv', delimiter=',')\n",
    "y_test = np.genfromtxt('boosting/y_test.csv')\n",
    "\n",
    "pred_y_all = []\n",
    "\n",
    "params = {'n_estimators': 500, 'max_depth': 4, 'min_samples_split': 2,\n",
    "          'learning_rate': 0.01, 'loss': 'ls'}\n",
    "for i in range(1):\n",
    "    clf = ensemble.GradientBoostingRegressor(**params)\n",
    "    clf.fit(X_train, y_train)\n",
    "    pred_y_i = clf.predict(X_test)\n",
    "    pred_y_all.append(pred_y_i)\n",
    "    error = mean_squared_error(y_test, pred_y_i)\n",
    "    print(\"MSE: %.4f\" % mse)"
   ]
  },
  {
   "cell_type": "code",
   "execution_count": 34,
   "metadata": {},
   "outputs": [
    {
     "data": {
      "text/plain": [
       "array([[ 1.        ,  0.99193904],\n",
       "       [ 0.99193904,  1.        ]])"
      ]
     },
     "execution_count": 34,
     "metadata": {},
     "output_type": "execute_result"
    }
   ],
   "source": [
    "#correlate here\n",
    "\n",
    "np.corrcoef(pred_y_i, fboost_test_pred)"
   ]
  },
  {
   "cell_type": "code",
   "execution_count": null,
   "metadata": {},
   "outputs": [],
   "source": []
  }
 ],
 "metadata": {
  "kernelspec": {
   "display_name": "Python 3",
   "language": "python",
   "name": "python3"
  },
  "language_info": {
   "codemirror_mode": {
    "name": "ipython",
    "version": 3
   },
   "file_extension": ".py",
   "mimetype": "text/x-python",
   "name": "python",
   "nbconvert_exporter": "python",
   "pygments_lexer": "ipython3",
   "version": "3.5.3"
  }
 },
 "nbformat": 4,
 "nbformat_minor": 2
}
