{
 "cells": [
  {
   "cell_type": "code",
   "execution_count": 1,
   "metadata": {
    "collapsed": false
   },
   "outputs": [
    {
     "data": {
      "application/javascript": [
       "IPython.OutputArea.prototype._should_scroll = function(lines) {\n",
       "    return false;\n",
       "}"
      ],
      "text/plain": [
       "<IPython.core.display.Javascript object>"
      ]
     },
     "metadata": {},
     "output_type": "display_data"
    }
   ],
   "source": [
    "%%javascript\n",
    "IPython.OutputArea.prototype._should_scroll = function(lines) {\n",
    "    return false;\n",
    "}"
   ]
  },
  {
   "cell_type": "code",
   "execution_count": 2,
   "metadata": {
    "collapsed": true
   },
   "outputs": [],
   "source": [
    "#do imports\n",
    "import seaborn as sns\n",
    "sns.set()\n",
    "import numpy as np\n",
    "from scipy.linalg import norm\n",
    "from scipy.spatial.distance import euclidean\n",
    "%matplotlib inline\n",
    "import numpy as np\n",
    "from scipy import stats\n",
    "from scipy import special as fn\n",
    "import collections, itertools\n",
    "import matplotlib.pyplot as plt\n",
    "from operator import itemgetter as at\n",
    "from random import randint\n",
    "import random\n",
    "import matplotlib.dates as mdate\n",
    "import datetime as dt\n",
    "from __future__ import print_function\n",
    "from ipywidgets import interact, interactive, fixed, interact_manual\n",
    "import ipywidgets as widgets\n",
    "\n",
    "try:\n",
    "    from matplotlib import pyplot as plt\n",
    "except:\n",
    "    plt = None\n",
    "import pandas\n",
    "from datetime import timedelta"
   ]
  },
  {
   "cell_type": "code",
   "execution_count": 3,
   "metadata": {
    "collapsed": false,
    "scrolled": true
   },
   "outputs": [],
   "source": [
    "#read csv\n",
    "df = pandas.read_csv('LowerBigCreek_HoboMX2001_Fall2018.csv')\n",
    "#rename headers\n",
    "df=df.rename(columns = {'Date Time, GMT -0600':'date'})\n",
    "df=df.rename(columns = {'Temp, (*F)':'temp'})\n",
    "df=df.rename(columns = {'Water Level, (ft)':'water'})\n",
    "\n",
    "#convert datetime for indexing later on\n",
    "df['datetime'] = pandas.to_datetime(df['date'])\n",
    "df = df.set_index('datetime')\n",
    "df.drop(['date'], axis=1, inplace=True)"
   ]
  },
  {
   "cell_type": "code",
   "execution_count": 4,
   "metadata": {
    "collapsed": false,
    "scrolled": false
   },
   "outputs": [],
   "source": [
    "#select dates within the time range and plot\n",
    "def interactive_plot(df, d1, d2, d3, d4, d5):\n",
    "    if 'Daily' in str(d1):\n",
    "        date2 = df.index.max() #get the latest date\n",
    "        date1 = df.index.max() - timedelta(days = 1) #select range from now till days as specified by the user   \n",
    "        df = df.loc[date1:date2] #select dates within the time range\n",
    "    elif 'Weekly' in str(d1):\n",
    "        date2 = df.index.max() #get the latest date\n",
    "        date1 = df.index.max() - timedelta(days = 7) #select range from now till days as specified by the user   \n",
    "        df = df.loc[date1:date2] #select dates within the time range\n",
    "    elif 'Monthly' in str(d1):\n",
    "        date2 = df.index.max() #get the latest date\n",
    "        date1 = df.index.max() - timedelta(days = 30) #select range from now till days as specified by the user   \n",
    "        df = df.loc[date1:date2] #select dates within the time range\n",
    "    \n",
    "    # make columns numeric\n",
    "    def coerce_df_columns_to_numeric(df, column_list):\n",
    "        df[column_list] = df[column_list].apply(pandas.to_numeric, errors='coerce')\n",
    "\n",
    "    coerce_df_columns_to_numeric(df, ['temp','water'])\n",
    "    \n",
    "    #Get means by date\n",
    "    df.index = pandas.to_datetime(df.index, unit='s')\n",
    "    daily_max = df.resample('D').max()\n",
    "    daily = df.resample('D').mean()\n",
    "    daily_min = df.resample('D').min()\n",
    "    \n",
    "    sns.set(style=\"whitegrid\")\n",
    "    \n",
    "    if 'Water' in str(d2):\n",
    "        if d4 == True:\n",
    "            #plot mean water level\n",
    "            water = daily.water #obtain mean water column from the pandas frame\n",
    "            y = water.values\n",
    "            x = range(0,len(water.index))\n",
    "            x_label = water.index.strftime(\"%Y/%m/%d\").tolist() #get dates for plotting, still need to figure out how to plot this\n",
    "            plt.plot(x, y, 'bo', markersize=18, markeredgecolor='k') #plot it\n",
    "            plt.plot(x, y, 'k-',linewidth=4, label='Daily mean')\n",
    "        if d3 == True:\n",
    "            #plot max water level\n",
    "            water = daily_max.water #obtain mean water column from the pandas frame\n",
    "            y = water.values\n",
    "            plt.plot(x, y, '--',linewidth=2, c='#B4B2B2', markersize=5, label='Daily max')\n",
    "        if d5 == True:\n",
    "            #plot min water level\n",
    "            water = daily_min.water #obtain mean water column from the pandas frame\n",
    "            y = water.values\n",
    "            plt.plot(x, y, '--',linewidth=2, c='#B4B2B2', markersize=5, label='Daily min')\n",
    "\n",
    "        #customize plot\n",
    "        plt.legend(loc='upper left', prop={'size': 18})\n",
    "        plt.ylim([1.4, 1.8]) #y limit\n",
    "        plt.xlim([0, len(water.index)]) #x limit\n",
    "        plt.xlabel('Day', size='large')\n",
    "        plt.ylabel('Water Level (in ft)', size='large')\n",
    "        plt.tick_params(axis='both', which='both', bottom='off', top='off', right='off', left='off',labelsize = 18)\n",
    "        fig = plt.gcf()\n",
    "        fig.set_size_inches(12, 8)\n",
    "        plt.rcParams.update({'font.size': 22})\n",
    "\n",
    "    elif 'Temp' in str(d2):   \n",
    "        if d4 == True:\n",
    "            #plot mean temp level\n",
    "            water = daily.temp #obtain mean temp column from the pandas frame\n",
    "            y = water.values\n",
    "            x = range(0,len(water.index))\n",
    "            x_label = water.index.strftime(\"%Y/%m/%d\").tolist() #get dates for plotting, still need to figure out how to plot this\n",
    "            plt.plot(x, y, 'bo', markersize=18, markeredgecolor='k') #plot it\n",
    "            plt.plot(x, y, 'k-',linewidth=4, label='Daily mean')\n",
    "        if d3 == True:\n",
    "            #plot max temp level\n",
    "            water = daily_max.temp #obtain max temp column from the pandas frame\n",
    "            y = water.values\n",
    "            plt.plot(x, y, '--',linewidth=2, c='#B4B2B2', markersize=5, label='Daily max')\n",
    "        if d5 == True:\n",
    "            #plot min temp level\n",
    "            water = daily_min.temp #obtain min temp column from the pandas frame\n",
    "            y = water.values\n",
    "            plt.plot(x, y, '--',linewidth=2, c='#B4B2B2', markersize=5, label='Daily min')\n",
    "\n",
    "        #customize plot\n",
    "        plt.legend(loc='best', prop={'size': 18})\n",
    "        plt.ylim([30, 60]) #y limit\n",
    "        plt.xlim([0, len(water.index)]) #x limit\n",
    "        plt.xlabel('Day', size='large')\n",
    "        plt.ylabel('Mean Temperature (in Fahrenheit)', size='large')\n",
    "        plt.tick_params(axis='both', which='both', bottom='off', top='off', right='off', left='off',labelsize = 18)\n",
    "        fig = plt.gcf()\n",
    "        fig.set_size_inches(12, 8)\n",
    "        plt.rcParams.update({'font.size': 22})"
   ]
  },
  {
   "cell_type": "code",
   "execution_count": 5,
   "metadata": {
    "collapsed": false
   },
   "outputs": [
    {
     "name": "stderr",
     "output_type": "stream",
     "text": [
      "c:\\users\\rach0_000\\anaconda3\\lib\\site-packages\\pandas\\core\\frame.py:3140: SettingWithCopyWarning: \n",
      "A value is trying to be set on a copy of a slice from a DataFrame.\n",
      "Try using .loc[row_indexer,col_indexer] = value instead\n",
      "\n",
      "See the caveats in the documentation: http://pandas.pydata.org/pandas-docs/stable/indexing.html#indexing-view-versus-copy\n",
      "  self[k1] = value[k2]\n"
     ]
    },
    {
     "data": {
      "image/png": "[encoded data removed]",
      "text/plain": [
       "<matplotlib.figure.Figure at 0x2271e41cb00>"
      ]
     },
     "metadata": {},
     "output_type": "display_data"
    }
   ],
   "source": [
    "from ipywidgets import Dropdown, Checkbox\n",
    "interact_manual(interactive_plot,df = fixed(df), d1=Dropdown(options=['Daily', 'Weekly', 'Monthly'], value='Weekly', description='Time Period', disabled=False),\n",
    "               d2=Dropdown(options=['Water', 'Temp'], value='Water', description='Observation Type', disabled=False),\n",
    "               d3 = Checkbox(value=False, description='Max', disabled=False), \n",
    "               d4 = Checkbox(value=True, description='Mean', disabled=False),\n",
    "               d5 = Checkbox(value=False, description='Min', disabled=False));"
   ]
  },
  {
   "cell_type": "code",
   "execution_count": null,
   "metadata": {
    "collapsed": false
   },
   "outputs": [],
   "source": []
  },
  {
   "cell_type": "code",
   "execution_count": null,
   "metadata": {
    "collapsed": false
   },
   "outputs": [],
   "source": []
  },
  {
   "cell_type": "code",
   "execution_count": null,
   "metadata": {
    "collapsed": false
   },
   "outputs": [],
   "source": []
  },
  {
   "cell_type": "code",
   "execution_count": null,
   "metadata": {
    "collapsed": true
   },
   "outputs": [],
   "source": []
  }
 ],
 "metadata": {
  "kernelspec": {
   "display_name": "Python 3",
   "language": "python",
   "name": "python3"
  },
  "language_info": {
   "codemirror_mode": {
    "name": "ipython",
    "version": 3
   },
   "file_extension": ".py",
   "mimetype": "text/x-python",
   "name": "python",
   "nbconvert_exporter": "python",
   "pygments_lexer": "ipython3",
   "version": "3.5.3"
  }
 },
 "nbformat": 4,
 "nbformat_minor": 0
}
